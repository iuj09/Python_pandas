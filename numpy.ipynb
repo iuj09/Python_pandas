{
 "cells": [
  {
   "cell_type": "code",
   "execution_count": 2,
   "id": "e3401c31-a8b8-4b51-a587-2cf853edf789",
   "metadata": {},
   "outputs": [
    {
     "data": {
      "text/plain": [
       "array([1, 2, 3, 4])"
      ]
     },
     "execution_count": 2,
     "metadata": {},
     "output_type": "execute_result"
    }
   ],
   "source": [
    "import numpy as np\n",
    "\n",
    "np.array([1,2,3,4])\n",
    "\n",
    "np.array([1,2,3,4],dtype=int)"
   ]
  },
  {
   "cell_type": "code",
   "execution_count": 1,
   "id": "7ac8a3e6-a28c-4f09-89ca-92fbba49a3ac",
   "metadata": {},
   "outputs": [
    {
     "name": "stdout",
     "output_type": "stream",
     "text": [
      "Module1.py의 func1()이 호출됨.\n"
     ]
    }
   ],
   "source": [
    "import Module1\n",
    "\n",
    "Module1.a()"
   ]
  },
  {
   "cell_type": "code",
   "execution_count": null,
   "id": "03133b35-5034-4306-beb9-1689dc77cd45",
   "metadata": {},
   "outputs": [],
   "source": []
  }
 ],
 "metadata": {
  "kernelspec": {
   "display_name": "Python 3 (ipykernel)",
   "language": "python",
   "name": "python3"
  },
  "language_info": {
   "codemirror_mode": {
    "name": "ipython",
    "version": 3
   },
   "file_extension": ".py",
   "mimetype": "text/x-python",
   "name": "python",
   "nbconvert_exporter": "python",
   "pygments_lexer": "ipython3",
   "version": "3.9.7"
  }
 },
 "nbformat": 4,
 "nbformat_minor": 5
}
